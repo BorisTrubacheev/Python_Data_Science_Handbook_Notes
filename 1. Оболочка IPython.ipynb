{
 "cells": [
  {
   "cell_type": "markdown",
   "id": "c5269749",
   "metadata": {},
   "source": [
    "# Конспект по книге \"Python для сложных задач\" Дж. Вандер Плас  "
   ]
  },
  {
   "cell_type": "markdown",
   "id": "882912bf",
   "metadata": {},
   "source": [
    "## Глава 1. Оболочка IPython"
   ]
  },
  {
   "cell_type": "code",
   "execution_count": 1,
   "id": "9e54adc3-c3e3-4210-8725-803d4080da90",
   "metadata": {},
   "outputs": [
    {
     "name": "stdout",
     "output_type": "stream",
     "text": [
      "Hello world\n"
     ]
    }
   ],
   "source": [
    "print('Hello world')"
   ]
  },
  {
   "cell_type": "markdown",
   "id": "c6000f04",
   "metadata": {},
   "source": [
    "### Справка и документация в оболочке Ipython"
   ]
  },
  {
   "cell_type": "markdown",
   "id": "6b6f0d82",
   "metadata": {},
   "source": [
    "В оболочке IPython можно получать официальную документацию, содержащуюся в кажом объекте в виде ссылки. Для этого используется ? после имени любого объекта / функции и т.п."
   ]
  },
  {
   "cell_type": "markdown",
   "id": "bd83f29b",
   "metadata": {},
   "source": [
    "?? используется также после любого имени для вывода справки об объекте и его исходном коде. Иногда может не быть доступа к исходному коду, если функция написана на Си. "
   ]
  },
  {
   "cell_type": "markdown",
   "id": "d08faf4b",
   "metadata": {},
   "source": [
    "Можно также составлять документацию пользовательских функций, для этого необходимо указать строку в первой строке кода при объявлении объекта:"
   ]
  },
  {
   "cell_type": "code",
   "execution_count": 2,
   "id": "6fedf22c",
   "metadata": {
    "tags": []
   },
   "outputs": [],
   "source": [
    "def test_of_notion():\n",
    "    \"Testing of ? function!\"\n",
    "    return"
   ]
  },
  {
   "cell_type": "code",
   "execution_count": 3,
   "id": "017a32c2",
   "metadata": {},
   "outputs": [],
   "source": [
    "test_of_notion?"
   ]
  },
  {
   "cell_type": "code",
   "execution_count": 4,
   "id": "1b409c70",
   "metadata": {},
   "outputs": [],
   "source": [
    "test_of_notion??"
   ]
  },
  {
   "cell_type": "code",
   "execution_count": 5,
   "id": "23e988a8",
   "metadata": {},
   "outputs": [],
   "source": [
    "l = [1, 2, 3, 123]"
   ]
  },
  {
   "cell_type": "markdown",
   "id": "794aa03a",
   "metadata": {},
   "source": [
    "l.(tab) - посмотреть список доступных методов (если введена первая буква, то список сократится), если имеется всего один вариант, то произойдёт автодополнение."
   ]
  },
  {
   "cell_type": "markdown",
   "id": "7b8e8367",
   "metadata": {},
   "source": [
    "В оболочке также имеется поиск по джокерному слову (поиск доступных объектов по регулярному выражению)"
   ]
  },
  {
   "cell_type": "code",
   "execution_count": 6,
   "id": "207a392f",
   "metadata": {},
   "outputs": [],
   "source": [
    "*notion?"
   ]
  },
  {
   "cell_type": "markdown",
   "id": "b4318c83",
   "metadata": {},
   "source": [
    "Вывод всех методов или объектов с началом str и включающих после точки символ u. *-любой символ, в том числе и пустой:"
   ]
  },
  {
   "cell_type": "code",
   "execution_count": 1,
   "id": "4ee8301b",
   "metadata": {},
   "outputs": [],
   "source": [
    "str.*u*?"
   ]
  },
  {
   "cell_type": "markdown",
   "id": "68658055",
   "metadata": {},
   "source": [
    "### «Магические» команды IPython"
   ]
  },
  {
   "cell_type": "markdown",
   "id": "932dee8c",
   "metadata": {},
   "source": [
    "В оболочке IPython имеются так называемые \"магические\" команды (эти команды не входят в интерпретатор питона, но интерпритируются оболочкой). Магические команды начинаются с символа %, если команду необходимо применить к строке кода, и с %%, если к блоку кода (не для всех команд есть версии %%)."
   ]
  },
  {
   "cell_type": "markdown",
   "id": "84a3e343",
   "metadata": {},
   "source": [
    "Команда %paste позволяет вставлять и сразу выполнять код, скопированный их какого либо источника, не заботясь о его форматировании. "
   ]
  },
  {
   "cell_type": "markdown",
   "id": "c7ece8fc",
   "metadata": {},
   "source": [
    "%run выполняет код файла, указанного ввиде глобального пути:"
   ]
  },
  {
   "cell_type": "code",
   "execution_count": 8,
   "id": "af16931f",
   "metadata": {},
   "outputs": [
    {
     "name": "stdout",
     "output_type": "stream",
     "text": [
      "Hello, another world!\n"
     ]
    }
   ],
   "source": [
    "%run C:\\Users\\boris\\Desktop\\test.py"
   ]
  },
  {
   "cell_type": "markdown",
   "id": "631dd25b",
   "metadata": {},
   "source": [
    "Код данного файла отнтерпритирован и виден в последующих блоках:"
   ]
  },
  {
   "cell_type": "code",
   "execution_count": 9,
   "id": "f45296df",
   "metadata": {},
   "outputs": [
    {
     "name": "stdout",
     "output_type": "stream",
     "text": [
      "10\n"
     ]
    }
   ],
   "source": [
    "print(foo())"
   ]
  },
  {
   "cell_type": "code",
   "execution_count": 10,
   "id": "9bb133b1",
   "metadata": {},
   "outputs": [
    {
     "data": {
      "text/plain": [
       "11"
      ]
     },
     "execution_count": 10,
     "metadata": {},
     "output_type": "execute_result"
    }
   ],
   "source": [
    "def foo():\n",
    "    return 11\n",
    "\n",
    "foo()"
   ]
  },
  {
   "cell_type": "markdown",
   "id": "e673db84",
   "metadata": {},
   "source": [
    "%(%)timeit позволяет измерить время, за которое выполняется однострочный оператор (блок кода). Если оператор не занимает много времени, то %timeit повторит его несколько раз для точности "
   ]
  },
  {
   "cell_type": "code",
   "execution_count": 11,
   "id": "facf6bcc",
   "metadata": {},
   "outputs": [
    {
     "name": "stdout",
     "output_type": "stream",
     "text": [
      "401 µs ± 15.1 µs per loop (mean ± std. dev. of 7 runs, 1000 loops each)\n"
     ]
    }
   ],
   "source": [
    "import numpy as np\n",
    "import random as rand\n",
    "\n",
    "%timeit l =  [n ** 2 for n in range(1000)]"
   ]
  },
  {
   "cell_type": "code",
   "execution_count": 12,
   "id": "0445a3f0",
   "metadata": {},
   "outputs": [
    {
     "name": "stdout",
     "output_type": "stream",
     "text": [
      "558 µs ± 35.3 µs per loop (mean ± std. dev. of 7 runs, 1000 loops each)\n"
     ]
    }
   ],
   "source": [
    "%%timeit\n",
    "l = []\n",
    "for i in range(1000):\n",
    "    l.append(i**2)"
   ]
  },
  {
   "cell_type": "code",
   "execution_count": 13,
   "id": "c6bf01ed",
   "metadata": {},
   "outputs": [
    {
     "name": "stdout",
     "output_type": "stream",
     "text": [
      "453 µs ± 28.4 µs per loop (mean ± std. dev. of 7 runs, 1000 loops each)\n"
     ]
    }
   ],
   "source": []
  },
  {
   "cell_type": "markdown",
   "id": "ccad1570",
   "metadata": {},
   "source": [
    "Все магические функции и их описания можно вывести при помощи следующих команд:"
   ]
  },
  {
   "cell_type": "code",
   "execution_count": 13,
   "id": "c11c326b",
   "metadata": {},
   "outputs": [],
   "source": [
    "%magic "
   ]
  },
  {
   "cell_type": "code",
   "execution_count": 14,
   "id": "98987ff8",
   "metadata": {},
   "outputs": [
    {
     "data": {
      "application/json": {
       "cell": {
        "!": "OSMagics",
        "HTML": "Other",
        "SVG": "Other",
        "bash": "Other",
        "capture": "ExecutionMagics",
        "cmd": "Other",
        "debug": "ExecutionMagics",
        "file": "Other",
        "html": "DisplayMagics",
        "javascript": "DisplayMagics",
        "js": "DisplayMagics",
        "latex": "DisplayMagics",
        "markdown": "DisplayMagics",
        "perl": "Other",
        "prun": "ExecutionMagics",
        "pypy": "Other",
        "python": "Other",
        "python2": "Other",
        "python3": "Other",
        "ruby": "Other",
        "script": "ScriptMagics",
        "sh": "Other",
        "svg": "DisplayMagics",
        "sx": "OSMagics",
        "system": "OSMagics",
        "time": "ExecutionMagics",
        "timeit": "ExecutionMagics",
        "writefile": "OSMagics"
       },
       "line": {
        "alias": "OSMagics",
        "alias_magic": "BasicMagics",
        "autoawait": "AsyncMagics",
        "autocall": "AutoMagics",
        "automagic": "AutoMagics",
        "autosave": "KernelMagics",
        "bookmark": "OSMagics",
        "cd": "OSMagics",
        "clear": "KernelMagics",
        "cls": "KernelMagics",
        "colors": "BasicMagics",
        "conda": "PackagingMagics",
        "config": "ConfigMagics",
        "connect_info": "KernelMagics",
        "copy": "Other",
        "ddir": "Other",
        "debug": "ExecutionMagics",
        "dhist": "OSMagics",
        "dirs": "OSMagics",
        "doctest_mode": "BasicMagics",
        "echo": "Other",
        "ed": "Other",
        "edit": "KernelMagics",
        "env": "OSMagics",
        "gui": "BasicMagics",
        "hist": "Other",
        "history": "HistoryMagics",
        "killbgscripts": "ScriptMagics",
        "ldir": "Other",
        "less": "KernelMagics",
        "load": "CodeMagics",
        "load_ext": "ExtensionMagics",
        "loadpy": "CodeMagics",
        "logoff": "LoggingMagics",
        "logon": "LoggingMagics",
        "logstart": "LoggingMagics",
        "logstate": "LoggingMagics",
        "logstop": "LoggingMagics",
        "ls": "Other",
        "lsmagic": "BasicMagics",
        "macro": "ExecutionMagics",
        "magic": "BasicMagics",
        "matplotlib": "PylabMagics",
        "mkdir": "Other",
        "more": "KernelMagics",
        "notebook": "BasicMagics",
        "page": "BasicMagics",
        "pastebin": "CodeMagics",
        "pdb": "ExecutionMagics",
        "pdef": "NamespaceMagics",
        "pdoc": "NamespaceMagics",
        "pfile": "NamespaceMagics",
        "pinfo": "NamespaceMagics",
        "pinfo2": "NamespaceMagics",
        "pip": "PackagingMagics",
        "popd": "OSMagics",
        "pprint": "BasicMagics",
        "precision": "BasicMagics",
        "prun": "ExecutionMagics",
        "psearch": "NamespaceMagics",
        "psource": "NamespaceMagics",
        "pushd": "OSMagics",
        "pwd": "OSMagics",
        "pycat": "OSMagics",
        "pylab": "PylabMagics",
        "qtconsole": "KernelMagics",
        "quickref": "BasicMagics",
        "recall": "HistoryMagics",
        "rehashx": "OSMagics",
        "reload_ext": "ExtensionMagics",
        "ren": "Other",
        "rep": "Other",
        "rerun": "HistoryMagics",
        "reset": "NamespaceMagics",
        "reset_selective": "NamespaceMagics",
        "rmdir": "Other",
        "run": "ExecutionMagics",
        "save": "CodeMagics",
        "sc": "OSMagics",
        "set_env": "OSMagics",
        "store": "StoreMagics",
        "sx": "OSMagics",
        "system": "OSMagics",
        "tb": "ExecutionMagics",
        "time": "ExecutionMagics",
        "timeit": "ExecutionMagics",
        "unalias": "OSMagics",
        "unload_ext": "ExtensionMagics",
        "who": "NamespaceMagics",
        "who_ls": "NamespaceMagics",
        "whos": "NamespaceMagics",
        "xdel": "NamespaceMagics",
        "xmode": "BasicMagics"
       }
      },
      "text/plain": [
       "Available line magics:\n",
       "%alias  %alias_magic  %autoawait  %autocall  %automagic  %autosave  %bookmark  %cd  %clear  %cls  %colors  %conda  %config  %connect_info  %copy  %ddir  %debug  %dhist  %dirs  %doctest_mode  %echo  %ed  %edit  %env  %gui  %hist  %history  %killbgscripts  %ldir  %less  %load  %load_ext  %loadpy  %logoff  %logon  %logstart  %logstate  %logstop  %ls  %lsmagic  %macro  %magic  %matplotlib  %mkdir  %more  %notebook  %page  %pastebin  %pdb  %pdef  %pdoc  %pfile  %pinfo  %pinfo2  %pip  %popd  %pprint  %precision  %prun  %psearch  %psource  %pushd  %pwd  %pycat  %pylab  %qtconsole  %quickref  %recall  %rehashx  %reload_ext  %ren  %rep  %rerun  %reset  %reset_selective  %rmdir  %run  %save  %sc  %set_env  %store  %sx  %system  %tb  %time  %timeit  %unalias  %unload_ext  %who  %who_ls  %whos  %xdel  %xmode\n",
       "\n",
       "Available cell magics:\n",
       "%%!  %%HTML  %%SVG  %%bash  %%capture  %%cmd  %%debug  %%file  %%html  %%javascript  %%js  %%latex  %%markdown  %%perl  %%prun  %%pypy  %%python  %%python2  %%python3  %%ruby  %%script  %%sh  %%svg  %%sx  %%system  %%time  %%timeit  %%writefile\n",
       "\n",
       "Automagic is ON, % prefix IS NOT needed for line magics."
      ]
     },
     "execution_count": 14,
     "metadata": {},
     "output_type": "execute_result"
    }
   ],
   "source": [
    "%lsmagic"
   ]
  },
  {
   "cell_type": "markdown",
   "id": "45a83c05",
   "metadata": {},
   "source": [
    "### Ввод и вывод в IPython"
   ]
  },
  {
   "cell_type": "markdown",
   "id": "46b1e718",
   "metadata": {},
   "source": [
    "В рамках оболочки IPython хранятся список In и словарь Out. В списке In хранятся все строки блоков кода, введённных до, в словаре Out все возвращаемые блоками значения с ключами ввиде номеров соответствующих блоков In. Список In начинается с  пустого элемента, чтобы нумерация начиналась с 1. "
   ]
  },
  {
   "cell_type": "code",
   "execution_count": 15,
   "id": "8c853310",
   "metadata": {},
   "outputs": [
    {
     "name": "stdout",
     "output_type": "stream",
     "text": [
      "['', \"print('Hello world')\", 'def test_of_notion():\\n    \"Testing of ? function!\"\\n    return', \"get_ipython().run_line_magic('pinfo', 'test_of_notion')\", \"get_ipython().run_line_magic('pinfo2', 'test_of_notion')\", 'l = [1, 2, 3, 123]', \"get_ipython().run_line_magic('psearch', '*notion')\", \"get_ipython().run_line_magic('psearch', 'str.*u*')\", \"get_ipython().run_line_magic('run', 'C:\\\\\\\\Users\\\\\\\\boris\\\\\\\\Desktop\\\\\\\\test.py')\", 'print(foo())', 'def foo():\\n    return 11\\n\\nfoo()', \"import numpy as np\\nimport random as rand\\n\\nget_ipython().run_line_magic('timeit', 'l =  [n ** 2 for n in range(1000)]')\", \"get_ipython().run_cell_magic('timeit', '', 'l = []\\\\nfor i in range(1000):\\\\n    l.append(i**2)\\\\n')\", \"get_ipython().run_line_magic('magic', '')\", \"get_ipython().run_line_magic('lsmagic', '')\", 'print(In)\\nprint(In[5])']\n",
      "l = [1, 2, 3, 123]\n"
     ]
    }
   ],
   "source": [
    "print(In)\n",
    "print(In[5])"
   ]
  },
  {
   "cell_type": "code",
   "execution_count": 16,
   "id": "d8c6898b",
   "metadata": {},
   "outputs": [
    {
     "name": "stdout",
     "output_type": "stream",
     "text": [
      "{10: 11, 14: <IPython.core.magics.basic.MagicsDisplay object at 0x0000027BA96A4670>}\n",
      "11\n"
     ]
    }
   ],
   "source": [
    "print(Out)\n",
    "print(Out[10])"
   ]
  },
  {
   "cell_type": "code",
   "execution_count": 17,
   "id": "7f98da9a",
   "metadata": {},
   "outputs": [
    {
     "data": {
      "text/plain": [
       "'Small output 1'"
      ]
     },
     "execution_count": 17,
     "metadata": {},
     "output_type": "execute_result"
    }
   ],
   "source": [
    "'Small output 1'"
   ]
  },
  {
   "cell_type": "code",
   "execution_count": 18,
   "id": "d22fe58f",
   "metadata": {},
   "outputs": [
    {
     "data": {
      "text/plain": [
       "'Small output 2'"
      ]
     },
     "execution_count": 18,
     "metadata": {},
     "output_type": "execute_result"
    }
   ],
   "source": [
    "'Small output 2'"
   ]
  },
  {
   "cell_type": "code",
   "execution_count": 19,
   "id": "4cb8e09d",
   "metadata": {},
   "outputs": [],
   "source": [
    "def some_code():\n",
    "    return"
   ]
  },
  {
   "cell_type": "code",
   "execution_count": 20,
   "id": "fee2740b",
   "metadata": {},
   "outputs": [
    {
     "data": {
      "text/plain": [
       "'Small output 3'"
      ]
     },
     "execution_count": 20,
     "metadata": {},
     "output_type": "execute_result"
    }
   ],
   "source": [
    "'Small output 3'"
   ]
  },
  {
   "cell_type": "markdown",
   "id": "7d4fd04c",
   "metadata": {},
   "source": [
    "Также есть короткие обращения к предыдущим трём выводам:"
   ]
  },
  {
   "cell_type": "code",
   "execution_count": 21,
   "id": "a1b60826",
   "metadata": {},
   "outputs": [
    {
     "name": "stdout",
     "output_type": "stream",
     "text": [
      "Small output 3\n",
      "Small output 2\n",
      "Small output 1\n"
     ]
    },
    {
     "data": {
      "text/plain": [
       "'Small output 1'"
      ]
     },
     "execution_count": 21,
     "metadata": {},
     "output_type": "execute_result"
    }
   ],
   "source": [
    "print(_)\n",
    "print(__)\n",
    "print(___)\n",
    "_17"
   ]
  },
  {
   "cell_type": "markdown",
   "id": "9a32c6c4",
   "metadata": {},
   "source": [
    "Если после блока кода поставить ;, то вывод будет подавлен (соотвествующий вывод не будет записан в список Out):"
   ]
  },
  {
   "cell_type": "code",
   "execution_count": 22,
   "id": "6a6e5007",
   "metadata": {},
   "outputs": [],
   "source": [
    "'Small output 4';"
   ]
  },
  {
   "cell_type": "code",
   "execution_count": 23,
   "id": "364c61e9",
   "metadata": {},
   "outputs": [
    {
     "data": {
      "text/plain": [
       "False"
      ]
     },
     "execution_count": 23,
     "metadata": {},
     "output_type": "execute_result"
    }
   ],
   "source": [
    "'Small output 4' in Out"
   ]
  },
  {
   "cell_type": "markdown",
   "id": "317c8ceb",
   "metadata": {},
   "source": [
    "Для доступа к предыдущим вводам можно также использовать команду %history. Она выводит предыдущие вводы ввиде строки и также может возвращать указанную выворку из вводов:"
   ]
  },
  {
   "cell_type": "code",
   "execution_count": 24,
   "id": "216fe7bc",
   "metadata": {},
   "outputs": [
    {
     "name": "stdout",
     "output_type": "stream",
     "text": [
      "print('Hello world')\n",
      "def test_of_notion():\n",
      "    \"Testing of ? function!\"\n",
      "    return\n",
      "test_of_notion?\n",
      "test_of_notion??\n",
      "l = [1, 2, 3, 123]\n",
      "*notion?\n",
      "str.*u*?\n",
      "%run C:\\Users\\boris\\Desktop\\test.py\n",
      "print(foo())\n",
      "def foo():\n",
      "    return 11\n",
      "\n",
      "foo()\n",
      "import numpy as np\n",
      "import random as rand\n",
      "\n",
      "%timeit l =  [n ** 2 for n in range(1000)]\n",
      "%%timeit\n",
      "l = []\n",
      "for i in range(1000):\n",
      "    l.append(i**2)\n",
      "%magic\n",
      "%lsmagic\n",
      "print(In)\n",
      "print(In[5])\n",
      "print(Out)\n",
      "print(Out[10])\n",
      "'Small output 1'\n",
      "'Small output 2'\n",
      "def some_code():\n",
      "    return\n",
      "'Small output 3'\n",
      "print(_)\n",
      "print(__)\n",
      "print(___)\n",
      "_17\n",
      "'Small output 4';\n",
      "'Small output 4' in Out\n",
      "%history\n"
     ]
    }
   ],
   "source": [
    "%history"
   ]
  },
  {
   "cell_type": "code",
   "execution_count": 25,
   "id": "7f50e5c7",
   "metadata": {},
   "outputs": [
    {
     "name": "stdout",
     "output_type": "stream",
     "text": [
      "   1: print('Hello world')\n",
      "   2:\n",
      "def test_of_notion():\n",
      "    \"Testing of ? function!\"\n",
      "    return\n",
      "   3: test_of_notion?\n",
      "   5: l = [1, 2, 3, 123]\n"
     ]
    }
   ],
   "source": [
    "%history -n 1-3 5"
   ]
  },
  {
   "cell_type": "markdown",
   "id": "981aa50e",
   "metadata": {},
   "source": [
    "% rerun - выполняет повторно какой-либо блок кода:"
   ]
  },
  {
   "cell_type": "code",
   "execution_count": 26,
   "id": "b9541c50",
   "metadata": {},
   "outputs": [],
   "source": [
    "%rerun?"
   ]
  },
  {
   "cell_type": "markdown",
   "id": "4ac2ce3f",
   "metadata": {},
   "source": [
    "%save сохраняет какой-либо блок кода в файл:"
   ]
  },
  {
   "cell_type": "code",
   "execution_count": 27,
   "id": "1e0d4610",
   "metadata": {},
   "outputs": [],
   "source": [
    "%save?"
   ]
  },
  {
   "cell_type": "markdown",
   "id": "1a19e8e1",
   "metadata": {},
   "source": [
    "### Оболочка IPython и использование системного командного процессора"
   ]
  },
  {
   "cell_type": "markdown",
   "id": "1eb24f8c",
   "metadata": {},
   "source": [
    "Оболочка IPython может напрямую взамодействовать со системным командным процессором. Для этого необходимо указать ! и написать код команды.\n",
    "\n",
    "Также можно передавать командному процессору аргументы, используемые в коде, и принимать возвращаемые командной строкой значения."
   ]
  },
  {
   "cell_type": "code",
   "execution_count": 28,
   "id": "6de3cf78",
   "metadata": {},
   "outputs": [
    {
     "name": "stdout",
     "output_type": "stream",
     "text": [
      "C:\\Users\\boris\n"
     ]
    }
   ],
   "source": [
    "!cd"
   ]
  },
  {
   "cell_type": "code",
   "execution_count": 29,
   "id": "2696143b",
   "metadata": {},
   "outputs": [
    {
     "name": "stdout",
     "output_type": "stream",
     "text": [
      "['C:\\\\Users\\\\boris']\n",
      "<class 'IPython.utils.text.SList'>\n"
     ]
    }
   ],
   "source": [
    "path = !cd\n",
    "print(path)\n",
    "print(type(path))"
   ]
  },
  {
   "cell_type": "code",
   "execution_count": 36,
   "id": "af2a2282",
   "metadata": {},
   "outputs": [
    {
     "name": "stdout",
     "output_type": "stream",
     "text": [
      "Text\n"
     ]
    },
    {
     "data": {
      "text/plain": [
       "['Text']"
      ]
     },
     "execution_count": 36,
     "metadata": {},
     "output_type": "execute_result"
    }
   ],
   "source": [
    "s = 'Text'\n",
    "\n",
    "!echo {s}\n",
    "s2 = !echo {s}\n",
    "s2"
   ]
  },
  {
   "cell_type": "markdown",
   "id": "4948c23c",
   "metadata": {},
   "source": [
    "### Ошибки и отладка"
   ]
  },
  {
   "cell_type": "markdown",
   "id": "982f6cf4",
   "metadata": {},
   "source": [
    "В оболочке IPython предусмотрены 3 вида вывода информации об ошибках: Context(по умолчанию), Plain(краткий), Verbose(подробный с выводом значений аргументов). Менять режимы можно при помощи команды %xmode:"
   ]
  },
  {
   "cell_type": "code",
   "execution_count": 31,
   "id": "c25e0cd7",
   "metadata": {},
   "outputs": [],
   "source": [
    "def potential_error(x, y):\n",
    "    x = 10 * 1703\n",
    "    return x / y"
   ]
  },
  {
   "cell_type": "code",
   "execution_count": 32,
   "id": "27ffa629",
   "metadata": {},
   "outputs": [
    {
     "name": "stdout",
     "output_type": "stream",
     "text": [
      "Exception reporting mode: Context\n"
     ]
    },
    {
     "ename": "ZeroDivisionError",
     "evalue": "division by zero",
     "output_type": "error",
     "traceback": [
      "\u001b[1;31m---------------------------------------------------------------------------\u001b[0m",
      "\u001b[1;31mZeroDivisionError\u001b[0m                         Traceback (most recent call last)",
      "\u001b[1;32m~\\AppData\\Local\\Temp\\ipykernel_32588\\913993785.py\u001b[0m in \u001b[0;36m<module>\u001b[1;34m\u001b[0m\n\u001b[0;32m      1\u001b[0m \u001b[0mget_ipython\u001b[0m\u001b[1;33m(\u001b[0m\u001b[1;33m)\u001b[0m\u001b[1;33m.\u001b[0m\u001b[0mrun_line_magic\u001b[0m\u001b[1;33m(\u001b[0m\u001b[1;34m'xmode'\u001b[0m\u001b[1;33m,\u001b[0m \u001b[1;34m'Context'\u001b[0m\u001b[1;33m)\u001b[0m\u001b[1;33m\u001b[0m\u001b[1;33m\u001b[0m\u001b[0m\n\u001b[0;32m      2\u001b[0m \u001b[1;33m\u001b[0m\u001b[0m\n\u001b[1;32m----> 3\u001b[1;33m \u001b[0mpotential_error\u001b[0m\u001b[1;33m(\u001b[0m\u001b[1;36m1\u001b[0m\u001b[1;33m,\u001b[0m \u001b[1;36m0\u001b[0m\u001b[1;33m)\u001b[0m\u001b[1;33m\u001b[0m\u001b[1;33m\u001b[0m\u001b[0m\n\u001b[0m",
      "\u001b[1;32m~\\AppData\\Local\\Temp\\ipykernel_32588\\1233167742.py\u001b[0m in \u001b[0;36mpotential_error\u001b[1;34m(x, y)\u001b[0m\n\u001b[0;32m      1\u001b[0m \u001b[1;32mdef\u001b[0m \u001b[0mpotential_error\u001b[0m\u001b[1;33m(\u001b[0m\u001b[0mx\u001b[0m\u001b[1;33m,\u001b[0m \u001b[0my\u001b[0m\u001b[1;33m)\u001b[0m\u001b[1;33m:\u001b[0m\u001b[1;33m\u001b[0m\u001b[1;33m\u001b[0m\u001b[0m\n\u001b[0;32m      2\u001b[0m     \u001b[0mx\u001b[0m \u001b[1;33m=\u001b[0m \u001b[1;36m10\u001b[0m \u001b[1;33m*\u001b[0m \u001b[1;36m1703\u001b[0m\u001b[1;33m\u001b[0m\u001b[1;33m\u001b[0m\u001b[0m\n\u001b[1;32m----> 3\u001b[1;33m     \u001b[1;32mreturn\u001b[0m \u001b[0mx\u001b[0m \u001b[1;33m/\u001b[0m \u001b[0my\u001b[0m\u001b[1;33m\u001b[0m\u001b[1;33m\u001b[0m\u001b[0m\n\u001b[0m",
      "\u001b[1;31mZeroDivisionError\u001b[0m: division by zero"
     ]
    }
   ],
   "source": [
    "%xmode Context\n",
    "\n",
    "potential_error(1, 0)"
   ]
  },
  {
   "cell_type": "code",
   "execution_count": 37,
   "id": "a6e18c49",
   "metadata": {},
   "outputs": [
    {
     "name": "stdout",
     "output_type": "stream",
     "text": [
      "Exception reporting mode: Plain\n"
     ]
    },
    {
     "ename": "ZeroDivisionError",
     "evalue": "division by zero",
     "output_type": "error",
     "traceback": [
      "Traceback \u001b[1;36m(most recent call last)\u001b[0m:\n",
      "  File \u001b[0;32m\"C:\\Users\\boris\\AppData\\Local\\Temp\\ipykernel_32588\\1167740296.py\"\u001b[0m, line \u001b[0;32m3\u001b[0m, in \u001b[0;35m<module>\u001b[0m\n    potential_error(1, 0)\n",
      "\u001b[1;36m  File \u001b[1;32m\"C:\\Users\\boris\\AppData\\Local\\Temp\\ipykernel_32588\\1233167742.py\"\u001b[1;36m, line \u001b[1;32m3\u001b[1;36m, in \u001b[1;35mpotential_error\u001b[1;36m\u001b[0m\n\u001b[1;33m    return x / y\u001b[0m\n",
      "\u001b[1;31mZeroDivisionError\u001b[0m\u001b[1;31m:\u001b[0m division by zero\n"
     ]
    }
   ],
   "source": [
    "%xmode Plain\n",
    "\n",
    "potential_error(1, 0)"
   ]
  },
  {
   "cell_type": "code",
   "execution_count": 38,
   "id": "2bd601aa",
   "metadata": {},
   "outputs": [
    {
     "name": "stdout",
     "output_type": "stream",
     "text": [
      "Exception reporting mode: Verbose\n"
     ]
    },
    {
     "ename": "ZeroDivisionError",
     "evalue": "division by zero",
     "output_type": "error",
     "traceback": [
      "\u001b[1;31m---------------------------------------------------------------------------\u001b[0m",
      "\u001b[1;31mZeroDivisionError\u001b[0m                         Traceback (most recent call last)",
      "\u001b[1;32m~\\AppData\\Local\\Temp\\ipykernel_32588\\3402771417.py\u001b[0m in \u001b[0;36m<module>\u001b[1;34m\u001b[0m\n\u001b[0;32m      1\u001b[0m \u001b[0mget_ipython\u001b[0m\u001b[1;33m(\u001b[0m\u001b[1;33m)\u001b[0m\u001b[1;33m.\u001b[0m\u001b[0mrun_line_magic\u001b[0m\u001b[1;33m(\u001b[0m\u001b[1;34m'xmode'\u001b[0m\u001b[1;33m,\u001b[0m \u001b[1;34m'Verbose'\u001b[0m\u001b[1;33m)\u001b[0m\u001b[1;33m\u001b[0m\u001b[1;33m\u001b[0m\u001b[0m\n\u001b[0;32m      2\u001b[0m \u001b[1;33m\u001b[0m\u001b[0m\n\u001b[1;32m----> 3\u001b[1;33m \u001b[0mpotential_error\u001b[0m\u001b[1;33m(\u001b[0m\u001b[1;36m1\u001b[0m\u001b[1;33m,\u001b[0m \u001b[1;36m0\u001b[0m\u001b[1;33m)\u001b[0m\u001b[1;33m\u001b[0m\u001b[1;33m\u001b[0m\u001b[0m\n\u001b[0m        \u001b[1;36mglobal\u001b[0m \u001b[0;36mpotential_error\u001b[0m \u001b[1;34m= <function potential_error at 0x0000027BA96CB280>\u001b[0m\n",
      "\u001b[1;32m~\\AppData\\Local\\Temp\\ipykernel_32588\\1233167742.py\u001b[0m in \u001b[0;36mpotential_error\u001b[1;34m(x=17030, y=0)\u001b[0m\n\u001b[0;32m      1\u001b[0m \u001b[1;32mdef\u001b[0m \u001b[0mpotential_error\u001b[0m\u001b[1;33m(\u001b[0m\u001b[0mx\u001b[0m\u001b[1;33m,\u001b[0m \u001b[0my\u001b[0m\u001b[1;33m)\u001b[0m\u001b[1;33m:\u001b[0m\u001b[1;33m\u001b[0m\u001b[1;33m\u001b[0m\u001b[0m\n\u001b[0;32m      2\u001b[0m     \u001b[0mx\u001b[0m \u001b[1;33m=\u001b[0m \u001b[1;36m10\u001b[0m \u001b[1;33m*\u001b[0m \u001b[1;36m1703\u001b[0m\u001b[1;33m\u001b[0m\u001b[1;33m\u001b[0m\u001b[0m\n\u001b[1;32m----> 3\u001b[1;33m     \u001b[1;32mreturn\u001b[0m \u001b[0mx\u001b[0m \u001b[1;33m/\u001b[0m \u001b[0my\u001b[0m\u001b[1;33m\u001b[0m\u001b[1;33m\u001b[0m\u001b[0m\n\u001b[0m        \u001b[0;36mx\u001b[0m \u001b[1;34m= 17030\u001b[0m\u001b[1;34m\n        \u001b[0m\u001b[0;36my\u001b[0m \u001b[1;34m= 0\u001b[0m\n",
      "\u001b[1;31mZeroDivisionError\u001b[0m: division by zero"
     ]
    }
   ],
   "source": [
    "%xmode Verbose\n",
    "\n",
    "potential_error(1, 0)"
   ]
  },
  {
   "attachments": {
    "image.png": {
     "image/png": "[encoded data removed]"
    }
   },
   "cell_type": "markdown",
   "id": "58dedc24",
   "metadata": {},
   "source": [
    "Для более качественной отладки существует команда %debug, открывающая интерактивную командную строку, позволяющую походить по стеку и посмотреть на происходящее. Основный команды командной строки: ![image.png](attachment:image.png)"
   ]
  },
  {
   "cell_type": "code",
   "execution_count": 39,
   "id": "1e0c5467",
   "metadata": {},
   "outputs": [
    {
     "name": "stdout",
     "output_type": "stream",
     "text": [
      "> \u001b[1;32mc:\\users\\boris\\appdata\\local\\temp\\ipykernel_32588\\1233167742.py\u001b[0m(3)\u001b[0;36mpotential_error\u001b[1;34m()\u001b[0m\n",
      "\n",
      "ipdb> quit\n"
     ]
    },
    {
     "ename": "ZeroDivisionError",
     "evalue": "division by zero",
     "output_type": "error",
     "traceback": [
      "\u001b[1;31m---------------------------------------------------------------------------\u001b[0m",
      "\u001b[1;31mZeroDivisionError\u001b[0m                         Traceback (most recent call last)",
      "\u001b[1;32m~\\AppData\\Local\\Temp\\ipykernel_32588\\3178661489.py\u001b[0m in \u001b[0;36m<module>\u001b[1;34m\u001b[0m\n\u001b[0;32m      4\u001b[0m \u001b[0mb\u001b[0m \u001b[1;33m=\u001b[0m \u001b[1;36m0\u001b[0m\u001b[1;33m\u001b[0m\u001b[1;33m\u001b[0m\u001b[0m\n\u001b[0;32m      5\u001b[0m \u001b[0msome_code\u001b[0m\u001b[1;33m(\u001b[0m\u001b[1;33m)\u001b[0m\u001b[1;33m\u001b[0m\u001b[1;33m\u001b[0m\u001b[0m\n\u001b[1;32m----> 6\u001b[1;33m \u001b[0mpotential_error\u001b[0m\u001b[1;33m(\u001b[0m\u001b[0ma\u001b[0m\u001b[1;33m,\u001b[0m \u001b[0mb\u001b[0m\u001b[1;33m)\u001b[0m\u001b[1;33m\u001b[0m\u001b[1;33m\u001b[0m\u001b[0m\n\u001b[0m        \u001b[1;36mglobal\u001b[0m \u001b[0;36mpotential_error\u001b[0m \u001b[1;34m= <function potential_error at 0x0000027BA96CB280>\u001b[0m\u001b[1;34m\n        \u001b[0m\u001b[1;36mglobal\u001b[0m \u001b[0;36ma\u001b[0m \u001b[1;34m= 1\u001b[0m\u001b[1;34m\n        \u001b[0m\u001b[1;36mglobal\u001b[0m \u001b[0;36mb\u001b[0m \u001b[1;34m= 0\u001b[0m\n",
      "\u001b[1;32m~\\AppData\\Local\\Temp\\ipykernel_32588\\1233167742.py\u001b[0m in \u001b[0;36mpotential_error\u001b[1;34m(x=17030, y=0)\u001b[0m\n\u001b[0;32m      1\u001b[0m \u001b[1;32mdef\u001b[0m \u001b[0mpotential_error\u001b[0m\u001b[1;33m(\u001b[0m\u001b[0mx\u001b[0m\u001b[1;33m,\u001b[0m \u001b[0my\u001b[0m\u001b[1;33m)\u001b[0m\u001b[1;33m:\u001b[0m\u001b[1;33m\u001b[0m\u001b[1;33m\u001b[0m\u001b[0m\n\u001b[0;32m      2\u001b[0m     \u001b[0mx\u001b[0m \u001b[1;33m=\u001b[0m \u001b[1;36m10\u001b[0m \u001b[1;33m*\u001b[0m \u001b[1;36m1703\u001b[0m\u001b[1;33m\u001b[0m\u001b[1;33m\u001b[0m\u001b[0m\n\u001b[1;32m----> 3\u001b[1;33m     \u001b[1;32mreturn\u001b[0m \u001b[0mx\u001b[0m \u001b[1;33m/\u001b[0m \u001b[0my\u001b[0m\u001b[1;33m\u001b[0m\u001b[1;33m\u001b[0m\u001b[0m\n\u001b[0m        \u001b[0;36mx\u001b[0m \u001b[1;34m= 17030\u001b[0m\u001b[1;34m\n        \u001b[0m\u001b[0;36my\u001b[0m \u001b[1;34m= 0\u001b[0m\n",
      "\u001b[1;31mZeroDivisionError\u001b[0m: division by zero"
     ]
    }
   ],
   "source": [
    "%debug\n",
    "\n",
    "a = 1\n",
    "b = 0\n",
    "some_code()\n",
    "potential_error(a, b)"
   ]
  },
  {
   "cell_type": "markdown",
   "id": "dfa3429b",
   "metadata": {},
   "source": [
    "### Профилирование и мониторинг скорости выполнения кода"
   ]
  },
  {
   "cell_type": "markdown",
   "id": "08cb00d1",
   "metadata": {},
   "source": [
    "Для измерения времени выполнения кода существуют 2 магические команды: %time и %timeit. \n",
    "\n",
    "%time делает замер 1 раз, при чём просто запускает код в стандартном режиме.\n",
    "\n",
    "%timeit делает несколько замеров, за счёт чего глобально работает медленнее, но результаты его замера на порядок меньше результатов замеров %time, т.к. код запускается в спеуильном режиме, в котором блокируется сборщик мусора и за счёт этого не теряется время."
   ]
  },
  {
   "cell_type": "code",
   "execution_count": 40,
   "id": "b08f6d45",
   "metadata": {},
   "outputs": [
    {
     "name": "stdout",
     "output_type": "stream",
     "text": [
      "sorting an unsorted list:\n",
      "Wall time: 31.9 ms\n"
     ]
    }
   ],
   "source": [
    "L = [rand.random() for i in range(100000)]\n",
    "print(\"sorting an unsorted list:\")\n",
    "%time L.sort()"
   ]
  },
  {
   "cell_type": "code",
   "execution_count": 41,
   "id": "e60147f2",
   "metadata": {},
   "outputs": [
    {
     "name": "stdout",
     "output_type": "stream",
     "text": [
      "sorting an unsorted list:\n",
      "2.57 ms ± 205 µs per loop (mean ± std. dev. of 7 runs, 100 loops each)\n"
     ]
    }
   ],
   "source": [
    "L = [rand.random() for i in range(100000)]\n",
    "print(\"sorting an unsorted list:\")\n",
    "%timeit L.sort()"
   ]
  },
  {
   "cell_type": "markdown",
   "id": "929295a2",
   "metadata": {},
   "source": [
    "В оболочке IPython есть встроенный профилировщик времени, выдающий подробную информацию, сколко времени было затрачено на все операции в коде:"
   ]
  },
  {
   "cell_type": "code",
   "execution_count": 42,
   "id": "0c372810",
   "metadata": {},
   "outputs": [
    {
     "name": "stdout",
     "output_type": "stream",
     "text": [
      " "
     ]
    }
   ],
   "source": [
    "def long_function(N):\n",
    "    total = 0\n",
    "    for i in range(5):\n",
    "        L = [j ^ (j >> i) for j in range(N)]\n",
    "        total += sum(L)\n",
    "        return total\n",
    "    \n",
    "%prun long_function(1000)"
   ]
  },
  {
   "cell_type": "markdown",
   "id": "cce05b54",
   "metadata": {},
   "source": [
    "Однако если установить дополниетльный профилировщик, вызываемый командой %lprun, можно добиться более подробного и наглядного резльтата по строкам:"
   ]
  },
  {
   "cell_type": "code",
   "execution_count": 43,
   "id": "f6dcd2fd",
   "metadata": {},
   "outputs": [
    {
     "name": "stdout",
     "output_type": "stream",
     "text": [
      "Requirement already satisfied: line_profiler in c:\\users\\boris\\anaconda3\\lib\\site-packages (4.0.3)\n",
      "Note: you may need to restart the kernel to use updated packages.\n"
     ]
    }
   ],
   "source": [
    "pip install line_profiler"
   ]
  },
  {
   "cell_type": "code",
   "execution_count": 44,
   "id": "d61ea63d",
   "metadata": {},
   "outputs": [],
   "source": [
    "%load_ext line_profiler"
   ]
  },
  {
   "cell_type": "code",
   "execution_count": 45,
   "id": "bd27b3bf",
   "metadata": {},
   "outputs": [],
   "source": [
    "%lprun -f long_function long_function(1000)"
   ]
  },
  {
   "cell_type": "markdown",
   "id": "f35e7cee",
   "metadata": {},
   "source": [
    "Аналогичная функция профилировки памяти также устанавливается отдельным пакетом и вызывается при помощи команды %mprun. Однако %mprun работает только с отдельными модулями, поэтому создадим модуль при помощи команды  %%file:"
   ]
  },
  {
   "cell_type": "code",
   "execution_count": 46,
   "id": "51617c91",
   "metadata": {},
   "outputs": [
    {
     "name": "stdout",
     "output_type": "stream",
     "text": [
      "Requirement already satisfied: memory_profiler in c:\\users\\boris\\anaconda3\\lib\\site-packages (0.61.0)\n",
      "Requirement already satisfied: psutil in c:\\users\\boris\\anaconda3\\lib\\site-packages (from memory_profiler) (5.9.0)\n",
      "Note: you may need to restart the kernel to use updated packages.\n"
     ]
    }
   ],
   "source": [
    "pip install memory_profiler"
   ]
  },
  {
   "cell_type": "code",
   "execution_count": 47,
   "id": "3e6e8457",
   "metadata": {},
   "outputs": [],
   "source": [
    "%load_ext memory_profiler`"
   ]
  },
  {
   "cell_type": "markdown",
   "id": "37d1221d",
   "metadata": {},
   "source": [
    "%memit указывает количество памяти, всего используемое кодом:"
   ]
  },
  {
   "cell_type": "code",
   "execution_count": 48,
   "id": "63bda29c",
   "metadata": {},
   "outputs": [
    {
     "name": "stdout",
     "output_type": "stream",
     "text": [
      "peak memory: 109.35 MiB, increment: 0.07 MiB\n"
     ]
    }
   ],
   "source": [
    "%memit long_function(1000)"
   ]
  },
  {
   "cell_type": "code",
   "execution_count": 49,
   "id": "d93dcc1c",
   "metadata": {},
   "outputs": [
    {
     "name": "stdout",
     "output_type": "stream",
     "text": [
      "Overwriting mprun_test.py\n"
     ]
    }
   ],
   "source": [
    "%%file mprun_test.py\n",
    "def sum_of_lists(N):\n",
    "    total = 0\n",
    "    for i in range(5):\n",
    "        L = [j ^ (j >> i) for j in range(N)]\n",
    "        total += sum(L)\n",
    "        del L # Удалить ссылку на L\n",
    "        return total"
   ]
  },
  {
   "cell_type": "code",
   "execution_count": 50,
   "id": "783a04a3",
   "metadata": {},
   "outputs": [
    {
     "name": "stdout",
     "output_type": "stream",
     "text": [
      "\n"
     ]
    }
   ],
   "source": [
    "from mprun_test import sum_of_lists as another_long_function\n",
    "\n",
    "%mprun -f another_long_function another_long_function(1000)"
   ]
  },
  {
   "cell_type": "code",
   "execution_count": null,
   "id": "98c2462a",
   "metadata": {},
   "outputs": [],
   "source": []
  }
 ],
 "metadata": {
  "kernelspec": {
   "display_name": "Python 3 (ipykernel)",
   "language": "python",
   "name": "python3"
  },
  "language_info": {
   "codemirror_mode": {
    "name": "ipython",
    "version": 3
   },
   "file_extension": ".py",
   "mimetype": "text/x-python",
   "name": "python",
   "nbconvert_exporter": "python",
   "pygments_lexer": "ipython3",
   "version": "3.9.13"
  }
 },
 "nbformat": 4,
 "nbformat_minor": 5
}
